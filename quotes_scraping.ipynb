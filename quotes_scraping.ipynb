{
  "nbformat": 4,
  "nbformat_minor": 0,
  "metadata": {
    "colab": {
      "provenance": [],
      "authorship_tag": "ABX9TyP+vhTgqSl6eB7fUsmvWG84",
      "include_colab_link": true
    },
    "kernelspec": {
      "name": "python3",
      "display_name": "Python 3"
    },
    "language_info": {
      "name": "python"
    }
  },
  "cells": [
    {
      "cell_type": "markdown",
      "metadata": {
        "id": "view-in-github",
        "colab_type": "text"
      },
      "source": [
        "<a href=\"https://colab.research.google.com/github/testedaisa/quotes_scraping/blob/main/quotes_scraping.ipynb\" target=\"_parent\"><img src=\"https://colab.research.google.com/assets/colab-badge.svg\" alt=\"Open In Colab\"/></a>"
      ]
    },
    {
      "cell_type": "code",
      "execution_count": 12,
      "metadata": {
        "id": "TBBj5R2qPeCi"
      },
      "outputs": [],
      "source": [
        "from bs4 import BeautifulSoup\n",
        "from urllib.request import urlopen\n",
        "import csv"
      ]
    },
    {
      "cell_type": "code",
      "source": [
        "html = urlopen(\"http://www.values.com/inspirational-quotes\")\n",
        "page = BeautifulSoup(html, 'html.parser')"
      ],
      "metadata": {
        "id": "tFgSBYrhQx_e"
      },
      "execution_count": 6,
      "outputs": []
    },
    {
      "cell_type": "code",
      "source": [
        "table = page.find('div', attrs = {'id':'all_quotes'})\n"
      ],
      "metadata": {
        "id": "iVdQUstuSwJ2"
      },
      "execution_count": 8,
      "outputs": []
    },
    {
      "cell_type": "code",
      "source": [
        "quotes = []"
      ],
      "metadata": {
        "id": "FUT_BAgLTwTC"
      },
      "execution_count": 10,
      "outputs": []
    },
    {
      "cell_type": "code",
      "source": [
        "for row in table.findAll('div',\n",
        "                         attrs = {'class':'col-6 col-lg-4 text-center margin-30px-bottom sm-margin-30px-top'}):\n",
        "    quote = {}\n",
        "    quote['theme'] = row.h5.text\n",
        "    quote['url'] = row.a['href']\n",
        "    quote['img'] = row.img['src']\n",
        "    quote['lines'] = row.img['alt'].split(\" #\")[0]\n",
        "    quote['author'] = row.img['alt'].split(\" #\")[1]\n",
        "    quotes.append(quote)"
      ],
      "metadata": {
        "id": "-0_QIIcRTxyx"
      },
      "execution_count": 20,
      "outputs": []
    },
    {
      "cell_type": "code",
      "source": [
        "filename = 'inspirational_quotes.csv'\n",
        "with open(filename, 'w', newline='') as f:\n",
        "    w = csv.DictWriter(f,['theme','url','img','lines','author'])\n",
        "    w.writeheader()\n",
        "    for quote in quotes:\n",
        "        w.writerow(quote)"
      ],
      "metadata": {
        "id": "yiZlVIimT7XN"
      },
      "execution_count": 21,
      "outputs": []
    },
    {
      "cell_type": "code",
      "source": [],
      "metadata": {
        "id": "AJPu8_bLUi1a"
      },
      "execution_count": null,
      "outputs": []
    }
  ]
}